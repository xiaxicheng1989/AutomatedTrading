{
 "cells": [
  {
   "cell_type": "markdown",
   "metadata": {},
   "source": [
    "# Automated trading212"
   ]
  },
  {
   "cell_type": "markdown",
   "metadata": {
    "heading_collapsed": true
   },
   "source": [
    "## Motivation"
   ]
  },
  {
   "cell_type": "markdown",
   "metadata": {
    "hidden": true
   },
   "source": [
    "Trading212 doesn't provide API to connect with python. Instead, they offer \"RoboTrading\", which is contracted with a third party. In that separated app, one can bind the Trading212's CFD/ invest account to that and choose an algorithm for trading.\n",
    "\n",
    "Since I use ISA account, which doesnt come with the beneafit, i would like to do my our automated day trading platform.  \n",
    "\n",
    "The idea is very simply:  \n",
    "I effectively automate what a human would do. i.e. using mouse and keyboard to click the buy and sell bottons.\n",
    "\n",
    "Current work:  \n",
    "- use conditions to buy and sell (simple statistics)"
   ]
  },
  {
   "cell_type": "markdown",
   "metadata": {
    "heading_collapsed": true
   },
   "source": [
    "## 0. Module import"
   ]
  },
  {
   "cell_type": "markdown",
   "metadata": {
    "hidden": true
   },
   "source": [
    "In the current status, we require libraries, which allow us to fo the following:\n",
    "- Screenshots\n",
    "- Image processing and digits recognition\n",
    "- Keyboard and mouse control\n",
    "- data storage"
   ]
  },
  {
   "cell_type": "code",
   "execution_count": 47,
   "metadata": {
    "ExecuteTime": {
     "end_time": "2020-07-21T23:05:37.935557Z",
     "start_time": "2020-07-21T23:05:37.928556Z"
    },
    "hidden": true,
    "hide_input": false,
    "scrolled": true
   },
   "outputs": [],
   "source": [
    "import pandas as pd\n",
    "import pyscreenshot as ImageGrab\n",
    "from PIL import Image\n",
    "import pytesseract\n",
    "import matplotlib.pyplot as plt\n",
    "from pynput.mouse import Button, Controller\n",
    "import pyautogui\n",
    "import time as tlib\n",
    "from datetime import *\n",
    "import numpy as np\n",
    "mouse = Controller()\n",
    "import cv2"
   ]
  },
  {
   "cell_type": "markdown",
   "metadata": {
    "hidden": true
   },
   "source": [
    "Tesseract is a bit tricky to install. Just follow the manual of tesseract. The path definition has to be exactly as defined in the manual."
   ]
  },
  {
   "cell_type": "markdown",
   "metadata": {
    "heading_collapsed": true
   },
   "source": [
    "## 1. Coordinates definition"
   ]
  },
  {
   "cell_type": "markdown",
   "metadata": {
    "hidden": true
   },
   "source": [
    "For automation, we need to know what to click and how many share we want to buy or sell. \n",
    "\n",
    "In the following I analyse screenshot to get the coordinates for my mouse to move to."
   ]
  },
  {
   "cell_type": "code",
   "execution_count": 166,
   "metadata": {
    "ExecuteTime": {
     "end_time": "2020-07-23T21:52:52.152626Z",
     "start_time": "2020-07-23T21:52:51.788605Z"
    },
    "hidden": true,
    "scrolled": true
   },
   "outputs": [],
   "source": [
    "im = ImageGrab.grab()\n",
    "im;"
   ]
  },
  {
   "cell_type": "markdown",
   "metadata": {
    "hidden": true
   },
   "source": [
    "These are coordinates specifically found for my home computer. For any other screen, one needs to use the codes in the [Testing coordinates section](#TestCoordinates)"
   ]
  },
  {
   "cell_type": "code",
   "execution_count": 149,
   "metadata": {
    "ExecuteTime": {
     "end_time": "2020-07-21T23:22:39.171968Z",
     "start_time": "2020-07-21T23:22:39.159967Z"
    },
    "hidden": true
   },
   "outputs": [],
   "source": [
    "sellbuyPrice=(1650,500,1840,550)\n",
    "sellsubPrice = (1, 1,100,50)\n",
    "buysubPrice = (100, 1,190,50)\n",
    "\n",
    "exePrice = (1050, 700,1200,750)\n",
    "\n",
    "exeCheck = (1140,600,1200,650)\n",
    "\n",
    "sellBotton = (1550, 360)\n",
    "buyBotton = (1750, 360)\n",
    "keyboardBotton =(1150, 550)\n",
    "reviewBotton = (1000, 880)\n",
    "sendBotton = (1000, 820)\n",
    "\n",
    "emptyspaceBotton = (1880,700)\n",
    "\n",
    "#tab1Bottom = (350,100)\n",
    "#tab2Bottom = (550, 100)"
   ]
  },
  {
   "cell_type": "markdown",
   "metadata": {
    "heading_collapsed": true,
    "hidden": true
   },
   "source": [
    "### 1.1 Testing coordinates\n",
    "<a id=\"TestCoordinates\"></a>"
   ]
  },
  {
   "cell_type": "markdown",
   "metadata": {
    "hidden": true
   },
   "source": [
    "Move mouse"
   ]
  },
  {
   "cell_type": "code",
   "execution_count": 150,
   "metadata": {
    "ExecuteTime": {
     "end_time": "2020-07-21T23:22:40.267031Z",
     "start_time": "2020-07-21T23:22:40.263031Z"
    },
    "hidden": true
   },
   "outputs": [],
   "source": [
    "mouse.position = emptyspaceBotton"
   ]
  },
  {
   "cell_type": "markdown",
   "metadata": {
    "hidden": true
   },
   "source": [
    "Move mouse and click once on the left"
   ]
  },
  {
   "cell_type": "code",
   "execution_count": 9,
   "metadata": {
    "ExecuteTime": {
     "end_time": "2020-05-25T00:21:36.580238Z",
     "start_time": "2020-05-25T00:21:36.577238Z"
    },
    "hidden": true
   },
   "outputs": [],
   "source": [
    "mouse = Controller()\n",
    "mouse.position = emptyspaceBotton\n",
    "tlib.sleep(0.3)\n",
    "mouse.click(Button.left, 1)"
   ]
  },
  {
   "cell_type": "markdown",
   "metadata": {
    "hidden": true
   },
   "source": [
    "Move mouse and press \"Esc\" key"
   ]
  },
  {
   "cell_type": "code",
   "execution_count": 168,
   "metadata": {
    "ExecuteTime": {
     "end_time": "2020-07-23T21:57:17.138782Z",
     "start_time": "2020-07-23T21:57:16.732759Z"
    },
    "hidden": true
   },
   "outputs": [],
   "source": [
    "mouse.position = buyBotton\n",
    "tlib.sleep(0.3)\n",
    "pyautogui.press(\"Esc\")\n",
    "#pyautogui.press(\"1\")"
   ]
  },
  {
   "cell_type": "markdown",
   "metadata": {
    "heading_collapsed": true
   },
   "source": [
    "## 2. Optical Character Recognition"
   ]
  },
  {
   "cell_type": "markdown",
   "metadata": {
    "hidden": true
   },
   "source": [
    "I use tesseract to perform the character recognition. For now, I use the pretrained the library. (I found tesseract works well, if the images are in higher resolution and with a lot white background.)\n",
    "\n",
    "In trading212, I need it to be able to read:  \n",
    "- numbers (buy/ sell price)\n",
    "- words (to confirm execution)"
   ]
  },
  {
   "cell_type": "code",
   "execution_count": 126,
   "metadata": {
    "ExecuteTime": {
     "end_time": "2020-07-21T23:18:45.464601Z",
     "start_time": "2020-07-21T23:18:44.482545Z"
    },
    "hidden": true
   },
   "outputs": [
    {
     "name": "stdout",
     "output_type": "stream",
     "text": [
      "Sell\n"
     ]
    },
    {
     "data": {
      "image/png": "[encoded data removed]",
      "text/plain": [
       "<PIL.PngImagePlugin.PngImageFile image mode=RGB size=60x50 at 0xBFD1708>"
      ]
     },
     "execution_count": 126,
     "metadata": {},
     "output_type": "execute_result"
    }
   ],
   "source": [
    "im =  ImageGrab.grab(bbox=(1140,600,1200,650))\n",
    "pytesseract.pytesseract.tesseract_cmd = 'C:/OCR/Tesseract-OCR/tesseract.exe' \n",
    "val = pytesseract.image_to_string(im)\n",
    "print(val)\n",
    "im"
   ]
  },
  {
   "cell_type": "code",
   "execution_count": 110,
   "metadata": {
    "ExecuteTime": {
     "end_time": "2020-07-21T23:15:24.365099Z",
     "start_time": "2020-07-21T23:15:23.356041Z"
    },
    "hidden": true
   },
   "outputs": [
    {
     "name": "stdout",
     "output_type": "stream",
     "text": [
      "1010.32\n"
     ]
    },
    {
     "data": {
      "image/png": "[encoded data removed]",
      "text/plain": [
       "<PIL.Image.Image image mode=RGB size=90x49 at 0xC1B8E08>"
      ]
     },
     "execution_count": 110,
     "metadata": {},
     "output_type": "execute_result"
    }
   ],
   "source": [
    "sellbuyPrice=(1650,500,1840,550)\n",
    "sellsubPrice = (1, 1,100,50)\n",
    "buysubPrice = (100, 1,190,50)\n",
    "\n",
    "im =  ImageGrab.grab(bbox=(680,520,800,560))\n",
    "config = r'--oem 1 --psm 6'\n",
    "sellP = pytesseract.image_to_string(im,config=config)\n",
    "\n",
    "print(float(sellP[2::]))\n",
    "im.crop(box=buysubPrice)"
   ]
  },
  {
   "cell_type": "markdown",
   "metadata": {
    "heading_collapsed": true
   },
   "source": [
    "## 3. Useful functions for executions\n",
    "<a id=\"Functions\"></a>"
   ]
  },
  {
   "cell_type": "markdown",
   "metadata": {
    "hidden": true
   },
   "source": [
    "Here I collect all the functions, which will be used later to construct executions."
   ]
  },
  {
   "cell_type": "code",
   "execution_count": 169,
   "metadata": {
    "ExecuteTime": {
     "end_time": "2020-07-23T22:18:02.234998Z",
     "start_time": "2020-07-23T22:18:02.217997Z"
    },
    "code_folding": [
     2,
     9,
     18,
     20,
     25,
     34,
     37,
     39,
     43,
     56,
     57,
     59,
     65,
     79
    ],
    "hidden": true
   },
   "outputs": [],
   "source": [
    "# In case another window is active. initial() clicks on the trading212\n",
    "# window, which has to fill the whole background.\n",
    "def initial():\n",
    "    mouse.position = emptyspaceBotton\n",
    "    tlib.sleep(0.3)\n",
    "    mouse.click(Button.left, 1)\n",
    "    tlib.sleep(0.3)\n",
    "\n",
    "# I have introduced a wait time for the pop-up window to appear.\n",
    "def click(botton):\n",
    "    mouse.position = botton\n",
    "    tlib.sleep(0.2)\n",
    "    mouse.click(Button.left, 1)\n",
    "    tlib.sleep(0.2)\n",
    "    mouse.click(Button.left, 1)\n",
    "    tlib.sleep(0.2)\n",
    "     \n",
    "# To type numbers, there has to be a waiting time between digits.\n",
    "def typing(nr):\n",
    "    strNr = str(nr)\n",
    "    for i in strNr:\n",
    "        pyautogui.press(i)\n",
    "        tlib.sleep(0.15)\n",
    "\n",
    "# This is useful to extract the excution price as a confirmation\n",
    "def get(price):\n",
    "    im =  ImageGrab.grab(bbox=price)\n",
    "    custom_config = r'--oem 3 --psm 6'\n",
    "    res = float(pytesseract.image_to_string(im, config=custom_config)[2::])\n",
    "    print(res)\n",
    "    return res\n",
    "\n",
    "# Confirmation, if the script is actually doing what we want.\n",
    "# logic output\n",
    "def check(orderbox, action):\n",
    "    im =  ImageGrab.grab(bbox=orderbox)\n",
    "    text = pytesseract.image_to_string(im)\n",
    "    if action in text:\n",
    "        return True\n",
    "    else:\n",
    "        return False\n",
    "\n",
    "# Takes the cordinates box of the buy and sell price and extracts the data\n",
    "def get2(pricebox, sellbox, buybox):\n",
    "    im =  ImageGrab.grab(bbox=pricebox)\n",
    "    sellP = im.crop(box=sellbox)\n",
    "    buyP = im.crop(box=buybox)\n",
    "    custom_config = r'--oem 3 --psm 6'\n",
    "    sellP = float(pytesseract.image_to_string(sellP, config=custom_config))\n",
    "    custom_config = r'--oem 3 --psm 6'\n",
    "    buyP = float(pytesseract.image_to_string(buyP, config=custom_config))\n",
    "    return [sellP, buyP]\n",
    "\n",
    "# Perform either buy or sell action on xx shares.\n",
    "# Here i check the label of the popup window as a confirmation.\n",
    "# Otherwise, abort the execution.\n",
    "def do(action, shareNr):\n",
    "    if action == \"Buy\":\n",
    "        click(buyBotton)\n",
    "    elif action == \"Sell\":\n",
    "        click(sellBotton)\n",
    "\n",
    "    click(keyboardBotton)\n",
    "    typing(shareNr)\n",
    "    click(reviewBotton)\n",
    "    try:\n",
    "        get(exePrice)\n",
    "        if check(exeCheck, action)==True:\n",
    "            click(sendBotton)\n",
    "            tlib.sleep(2)\n",
    "            return True\n",
    "        else:\n",
    "            tlib.sleep(0.2)\n",
    "            pyautogui.press(\"Esc\")\n",
    "            tlib.sleep(0.2)\n",
    "            pyautogui.press(\"Esc\")\n",
    "            tlib.sleep(0.2)\n",
    "            pyautogui.press(\"Esc\")\n",
    "            return False\n",
    "    except:\n",
    "        tlib.sleep(0.2)\n",
    "        pyautogui.press(\"Esc\")\n",
    "        tlib.sleep(0.2)\n",
    "        pyautogui.press(\"Esc\")\n",
    "        tlib.sleep(0.2)\n",
    "        pyautogui.press(\"Esc\")\n",
    "        return False"
   ]
  },
  {
   "cell_type": "markdown",
   "metadata": {},
   "source": [
    "## 4. Algorithm 1\n",
    "<a id=\"Algo1\"></a>"
   ]
  },
  {
   "cell_type": "markdown",
   "metadata": {},
   "source": [
    "I use pandas to manipulate data and doing statistics."
   ]
  },
  {
   "cell_type": "code",
   "execution_count": null,
   "metadata": {
    "code_folding": [
     1,
     2,
     9,
     16
    ]
   },
   "outputs": [],
   "source": [
    "# take a DF and append the new buy and sell values at the bottom\n",
    "def updateDF(baseDF, newElement):\n",
    "    new_row = pd.DataFrame({\"sell\": newElement[0],\n",
    "                            \"buy\": newElement[1]\n",
    "                            }, index =[datetime.now()])\n",
    "    baseDF=pd.concat([baseDF, new_row], ignore_index=False)\n",
    "    return baseDF\n",
    "\n",
    "# Average the data every full minute\n",
    "def mkavgDF(baseDF):\n",
    "    testAvgDF = baseDF.resample('1T').mean()\n",
    "    testAvgDF.reset_index(inplace=True)\n",
    "    return testAvgDF\n",
    "\n",
    "# get the overall mean BUY price.\n",
    "# the condition is to prevent data extraction error\n",
    "def getoverallMean(avgDF,suggMean):\n",
    "    temp =avgDF[avgDF[\"buy\"]<(suggMean*2)].buy.mean()\n",
    "    return temp"
   ]
  },
  {
   "cell_type": "markdown",
   "metadata": {},
   "source": [
    "The key part is to find a serie of conditions which the software suppose to act on. "
   ]
  },
  {
   "cell_type": "markdown",
   "metadata": {},
   "source": [
    "###  <font color=red>Execution Conditions</font> "
   ]
  },
  {
   "cell_type": "code",
   "execution_count": 134,
   "metadata": {
    "ExecuteTime": {
     "end_time": "2020-07-21T23:19:46.053066Z",
     "start_time": "2020-07-21T23:19:46.010064Z"
    },
    "code_folding": []
   },
   "outputs": [],
   "source": [
    "# Erased by the author"
   ]
  },
  {
   "cell_type": "markdown",
   "metadata": {},
   "source": [
    "Execusion function"
   ]
  },
  {
   "cell_type": "code",
   "execution_count": null,
   "metadata": {},
   "outputs": [],
   "source": [
    "# I have introduced checkpoint to be sure, where the issue is.\n",
    "def execute(sellbuyPrice,sellsubPrice,buysubPrice,\n",
    "            testDF,#base data frame\n",
    "            uplimit,#reading limit\n",
    "            suggMean,#suggested mean of the shares\n",
    "            maxbuyPratio0, # maximal ratio for buying over overallmean\n",
    "            minProfit0,\n",
    "            buylist,selllist,\n",
    "            qty,buyindlist, sellindlist, stoptime):\n",
    "    \n",
    "    try:\n",
    "        checkP = 0\n",
    "        pricelist = get2(sellbuyPrice,sellsubPrice,buysubPrice)\n",
    "        checkP = checkP+1 \n",
    "        if (pricelist[0]<uplimit) and (pricelist[1]<uplimit):\n",
    "            checkP = checkP+1 # check pint 2\n",
    "            \n",
    "            testDF = updateDF(testDF,pricelist)\n",
    "            currentP = testDF.iloc[-1]\n",
    "            # define analysis dataframe\n",
    "            checkP = checkP+1 # check pint 3\n",
    "            testAvgDF = mkavgDF(testDF)\n",
    "            ##############################################\n",
    "            # start buying after 20 min.\n",
    "            #print(\"i am here\")\n",
    "            checkP = checkP+1 # check pint 4\n",
    "            if len(testAvgDF)<60:\n",
    "                maxbuyPratio = maxbuyPratio0\n",
    "                checkP = checkP+1 # check pint 5\n",
    "            elif len(testAvgDF)>=60:\n",
    "                maxbuyPratio = 1+ testAvgDF.buy.std()\n",
    "                if currentP.buy > (testAvgDF.buy.mean()+testAvgDF.buy.std()):\n",
    "                    minProfit =minProfit0/2\n",
    "                    checkP = checkP+1 # check pint 5\n",
    "                else:\n",
    "                    minProfit = minProfit0\n",
    "                    checkP = checkP+1 # check pint 5\n",
    "            ###########\n",
    "            \n",
    "            if len(testAvgDF)>6:\n",
    "                checkP = checkP+1 # check pint 6\n",
    "                analList = [testAvgDF.iloc[-1],\n",
    "                            testAvgDF.iloc[-2],\n",
    "                            testAvgDF.iloc[-3], \n",
    "                            testAvgDF.iloc[-4],\n",
    "                            testAvgDF.iloc[-5],\n",
    "                            currentP]\n",
    "                \n",
    "                meanoverall = getoverallMean(testAvgDF, suggMean)\n",
    "                \n",
    "                checkP = checkP+1 # check pint 7\n",
    "            # first buying\n",
    "                if len(buylist)==0:\n",
    "                # buying: 2 down 1 up\n",
    "                    checkP = checkP+1 # check pint 8\n",
    "                    if  buyCond(analList, meanoverall, maxbuyPratio) & \\\n",
    "                        (datetime.now()<stoptime):\n",
    "                    #####################################\n",
    "                        status = do(\"Buy\",qty)\n",
    "                        if status == True:\n",
    "                            buylist.append(currentP.buy)\n",
    "                            buyindlist.append(len(testDF)-1)\n",
    "                            print(\"Bought@\"+str(currentP.buy))\n",
    "                        else:\n",
    "                            print(\"Error at Buying\")\n",
    "                    #####################################\n",
    "                elif len(buylist) > 0:\n",
    "                    checkP = checkP+1 # check pint 8\n",
    "                    if len(buylist) == len(selllist):\n",
    "                        # buying: 2 down 1 up\n",
    "                        checkP = checkP+1 # check pint 9\n",
    "                        if  buyCond(analList, meanoverall, maxbuyPratio)& \\\n",
    "                            (datetime.now()<stoptime):\n",
    "                        #####################################\n",
    "                        \n",
    "                            status = do(\"Buy\",qty)\n",
    "                            if status == True:\n",
    "                                buylist.append(currentP.buy)\n",
    "                                buyindlist.append(len(testDF)-1)\n",
    "                                print(\"Bought@\"+str(currentP.buy))\n",
    "                            else:\n",
    "                                print(\"Error at Buying\")\n",
    "                        #####################################\n",
    "                        else:\n",
    "                            pass\n",
    "                    # selling: up/equal 1 down 1     \n",
    "                    elif (len(buylist) > len(selllist)):\n",
    "                    #else:\n",
    "                        #print(\"i am here\")\n",
    "                        #print(minProfit)\n",
    "                        checkP = checkP+1 # check pint 9\n",
    "                        if sellCond(analList,buylist, minProfit):\n",
    "                            \n",
    "                            #####################################\n",
    "                            status=do(\"Sell\",qty)\n",
    "                            if status == True:\n",
    "                                selllist.append(currentP.sell)\n",
    "                                sellindlist.append(len(testDF)-1)\n",
    "                                print(\"Sold@\"+str(currentP.sell))\n",
    "                            else:\n",
    "                                print(\"Error at Selling\")\n",
    "                            ##################################### \n",
    "            else:\n",
    "                pass\n",
    "        else:\n",
    "            pass\n",
    "    except:\n",
    "        print(\"Something went wrong:\"+str(checkP))\n",
    "        tlib.sleep(1)\n",
    "        pass\n",
    "    \n",
    "    return testDF, buylist, selllist, buyindlist, sellindlist\n",
    "\n"
   ]
  },
  {
   "cell_type": "markdown",
   "metadata": {},
   "source": [
    "# Start"
   ]
  },
  {
   "cell_type": "markdown",
   "metadata": {},
   "source": [
    "The following can be applied to multple traded equities. For now, we can swap between them by changing the tabs. Hence the tab coordinates are required.  \n",
    "\n",
    "\n",
    "We first define a data frame, where the data will be saved to. \n",
    "\n",
    "Few wait function defines the time when the script should get started."
   ]
  },
  {
   "cell_type": "code",
   "execution_count": 162,
   "metadata": {
    "ExecuteTime": {
     "end_time": "2020-07-23T07:29:27.703402Z",
     "start_time": "2020-07-23T07:29:27.683402Z"
    }
   },
   "outputs": [],
   "source": [
    "testDF1 = pd.DataFrame({}, columns=[\"Time\",\"sell\",\"buy\"])\n",
    "testDF1.set_index([\"Time\"], inplace=True, drop=True)\n",
    "\n",
    "#testDF2 = pd.DataFrame({}, columns=[\"Time\",\"sell\",\"buy\"])\n",
    "#testDF2.set_index([\"Time\"], inplace=True, drop=True)"
   ]
  },
  {
   "cell_type": "code",
   "execution_count": 163,
   "metadata": {
    "ExecuteTime": {
     "end_time": "2020-07-23T07:29:30.103413Z",
     "start_time": "2020-07-23T07:29:30.097413Z"
    }
   },
   "outputs": [],
   "source": [
    "buylist1=[]\n",
    "buyindlist1=[]\n",
    "#buylist2=[]\n",
    "#buyindlist2=[]\n",
    "\n",
    "selllist1=[]\n",
    "sellindlist1=[]\n",
    "#selllist2=[]\n",
    "#sellindlist2=[]"
   ]
  },
  {
   "cell_type": "code",
   "execution_count": 164,
   "metadata": {
    "ExecuteTime": {
     "end_time": "2020-07-23T15:30:01.047299Z",
     "start_time": "2020-07-23T07:30:01.232564Z"
    },
    "code_folding": [
     12,
     15,
     18
    ]
   },
   "outputs": [],
   "source": [
    "uplimit1 = 15\n",
    "suggMean1 = 11\n",
    "minProfit1 = 0.1\n",
    "qty1 = 100\n",
    "#uplimit2 = 400\n",
    "#suggMean2 = 288\n",
    "#minProfit2 = 0.3\n",
    "#qty2 = 330\n",
    "\n",
    "maxbuyPratio1=1.02\n",
    "stoptime = datetime(2020, 7, 23, 15, 0, 0,0)\n",
    "\n",
    "while datetime.now()<datetime(2020, 7, 23, 7, 53, 0,0):\n",
    "    tlib.sleep(60)\n",
    "\n",
    "while datetime.now()<datetime(2020, 7, 23, 16, 30, 0,0):\n",
    "    #click(emptyspaceBotton)\n",
    "    #click(tab1Bottom)\n",
    "    testDF1, buylist1, selllist1, buyindlist1, sellindlist1 = execute(   sellbuyPrice,sellsubPrice,buysubPrice,\n",
    "                                                                    testDF1,#base data frame\n",
    "                                                                    uplimit1,#reading limit\n",
    "                                                                    suggMean1,#suggested mean of the shares\n",
    "                                                                    maxbuyPratio1, # maximal ratio for buying over overallmean\n",
    "                                                                    minProfit1,\n",
    "                                                                    buylist1,selllist1, qty1,buyindlist1, sellindlist1,stoptime)\n",
    "    '''\n",
    "    click(emptyspaceBotton)\n",
    "    click(tab2Bottom)\n",
    "    testDF2, buylist2, selllist2, buyindlist2, sellindlist2 = execute(   sellbuyPrice,sellsubPrice,buysubPrice,\n",
    "                                                                    testDF2,#base data frame\n",
    "                                                                    uplimit2,#reading limit\n",
    "                                                                    suggMean2,#suggested mean of the shares\n",
    "                                                                    maxbuyPratio, # maximal ratio for buying over overallmean\n",
    "                                                                    minProfit2,\n",
    "                                                                    buylist2,selllist2, qty2,buyindlist2, sellindlist2,stoptime)\n",
    "    '''"
   ]
  },
  {
   "cell_type": "code",
   "execution_count": 160,
   "metadata": {
    "ExecuteTime": {
     "end_time": "2020-07-22T14:01:08.725878Z",
     "start_time": "2020-07-22T14:01:08.514866Z"
    }
   },
   "outputs": [],
   "source": [
    "testDF1.to_csv(\"ryanair2307.csv\")"
   ]
  },
  {
   "cell_type": "code",
   "execution_count": 161,
   "metadata": {
    "ExecuteTime": {
     "end_time": "2020-07-22T21:09:43.002644Z",
     "start_time": "2020-07-22T21:09:42.912644Z"
    }
   },
   "outputs": [
    {
     "data": {
      "text/html": [
       "<div>\n",
       "<style scoped>\n",
       "    .dataframe tbody tr th:only-of-type {\n",
       "        vertical-align: middle;\n",
       "    }\n",
       "\n",
       "    .dataframe tbody tr th {\n",
       "        vertical-align: top;\n",
       "    }\n",
       "\n",
       "    .dataframe thead th {\n",
       "        text-align: right;\n",
       "    }\n",
       "</style>\n",
       "<table border=\"1\" class=\"dataframe\">\n",
       "  <thead>\n",
       "    <tr style=\"text-align: right;\">\n",
       "      <th></th>\n",
       "      <th>sell</th>\n",
       "      <th>buy</th>\n",
       "    </tr>\n",
       "  </thead>\n",
       "  <tbody>\n",
       "    <tr>\n",
       "      <td>2020-07-22 09:40:35.267613</td>\n",
       "      <td>10.85</td>\n",
       "      <td>10.86</td>\n",
       "    </tr>\n",
       "    <tr>\n",
       "      <td>2020-07-22 09:40:37.100718</td>\n",
       "      <td>10.85</td>\n",
       "      <td>10.86</td>\n",
       "    </tr>\n",
       "    <tr>\n",
       "      <td>2020-07-22 09:40:38.982825</td>\n",
       "      <td>10.85</td>\n",
       "      <td>10.86</td>\n",
       "    </tr>\n",
       "    <tr>\n",
       "      <td>2020-07-22 09:40:40.848932</td>\n",
       "      <td>10.85</td>\n",
       "      <td>10.86</td>\n",
       "    </tr>\n",
       "    <tr>\n",
       "      <td>2020-07-22 09:40:42.737040</td>\n",
       "      <td>10.85</td>\n",
       "      <td>10.86</td>\n",
       "    </tr>\n",
       "    <tr>\n",
       "      <td>...</td>\n",
       "      <td>...</td>\n",
       "      <td>...</td>\n",
       "    </tr>\n",
       "    <tr>\n",
       "      <td>2020-07-22 14:59:33.443428</td>\n",
       "      <td>10.74</td>\n",
       "      <td>10.76</td>\n",
       "    </tr>\n",
       "    <tr>\n",
       "      <td>2020-07-22 14:59:35.127524</td>\n",
       "      <td>10.74</td>\n",
       "      <td>10.76</td>\n",
       "    </tr>\n",
       "    <tr>\n",
       "      <td>2020-07-22 14:59:36.810621</td>\n",
       "      <td>10.74</td>\n",
       "      <td>10.76</td>\n",
       "    </tr>\n",
       "    <tr>\n",
       "      <td>2020-07-22 14:59:38.682728</td>\n",
       "      <td>10.97</td>\n",
       "      <td>10.99</td>\n",
       "    </tr>\n",
       "    <tr>\n",
       "      <td>2020-07-22 14:59:40.867853</td>\n",
       "      <td>10.97</td>\n",
       "      <td>10.99</td>\n",
       "    </tr>\n",
       "  </tbody>\n",
       "</table>\n",
       "<p>11321 rows × 2 columns</p>\n",
       "</div>"
      ],
      "text/plain": [
       "                             sell    buy\n",
       "2020-07-22 09:40:35.267613  10.85  10.86\n",
       "2020-07-22 09:40:37.100718  10.85  10.86\n",
       "2020-07-22 09:40:38.982825  10.85  10.86\n",
       "2020-07-22 09:40:40.848932  10.85  10.86\n",
       "2020-07-22 09:40:42.737040  10.85  10.86\n",
       "...                           ...    ...\n",
       "2020-07-22 14:59:33.443428  10.74  10.76\n",
       "2020-07-22 14:59:35.127524  10.74  10.76\n",
       "2020-07-22 14:59:36.810621  10.74  10.76\n",
       "2020-07-22 14:59:38.682728  10.97  10.99\n",
       "2020-07-22 14:59:40.867853  10.97  10.99\n",
       "\n",
       "[11321 rows x 2 columns]"
      ]
     },
     "execution_count": 161,
     "metadata": {},
     "output_type": "execute_result"
    }
   ],
   "source": [
    "testDF1"
   ]
  }
 ],
 "metadata": {
  "hide_input": false,
  "kernelspec": {
   "display_name": "Python 3",
   "language": "python",
   "name": "python3"
  },
  "language_info": {
   "codemirror_mode": {
    "name": "ipython",
    "version": 3
   },
   "file_extension": ".py",
   "mimetype": "text/x-python",
   "name": "python",
   "nbconvert_exporter": "python",
   "pygments_lexer": "ipython3",
   "version": "3.7.4"
  },
  "latex_envs": {
   "LaTeX_envs_menu_present": true,
   "autoclose": false,
   "autocomplete": true,
   "bibliofile": "biblio.bib",
   "cite_by": "apalike",
   "current_citInitial": 1,
   "eqLabelWithNumbers": true,
   "eqNumInitial": 1,
   "hotkeys": {
    "equation": "Ctrl-E",
    "itemize": "Ctrl-I"
   },
   "labels_anchors": false,
   "latex_user_defs": false,
   "report_style_numbering": false,
   "user_envs_cfg": false
  }
 },
 "nbformat": 4,
 "nbformat_minor": 2
}
